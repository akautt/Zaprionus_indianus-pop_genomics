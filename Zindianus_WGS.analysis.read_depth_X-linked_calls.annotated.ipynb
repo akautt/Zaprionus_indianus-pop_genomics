{
 "cells": [
  {
   "cell_type": "markdown",
   "metadata": {
    "ExecuteTime": {
     "end_time": "2021-06-07T21:11:08.684920Z",
     "start_time": "2021-06-07T21:11:08.671115Z"
    }
   },
   "source": [
    "Custom code to identify X-linked scaffolds based on read depth in females and males in: <br>\n",
    "\n",
    "Comeault et al. (2021). Genomic signatures of admixture and selection are shared among populations of Zaprionus indianus across the western hemisphere. Mol. Ecol. <br>\n",
    "\n",
    "Written by Andi Kautt in 2021<br>\n",
    "\n",
    "I highly recommend installing https://jupyter-contrib-nbextensions.readthedocs.io/en/latest/ and turning the TOC option on"
   ]
  },
  {
   "cell_type": "markdown",
   "metadata": {},
   "source": [
    "# Set up env"
   ]
  },
  {
   "cell_type": "markdown",
   "metadata": {},
   "source": [
    "## Load modules"
   ]
  },
  {
   "cell_type": "code",
   "execution_count": 2,
   "metadata": {
    "ExecuteTime": {
     "end_time": "2021-06-07T21:17:59.319774Z",
     "start_time": "2021-06-07T21:17:50.150670Z"
    }
   },
   "outputs": [],
   "source": [
    "import sys,os,re,fnmatch,glob,shutil\n",
    "import subprocess,itertools\n",
    "import tabix,pysam,gzip\n",
    "import numpy as np\n",
    "import pandas as pd"
   ]
  },
  {
   "cell_type": "code",
   "execution_count": null,
   "metadata": {},
   "outputs": [],
   "source": [
    "# load R kernel\n",
    "%load_ext rpy2.ipython"
   ]
  },
  {
   "cell_type": "code",
   "execution_count": null,
   "metadata": {},
   "outputs": [],
   "source": [
    "%%R \n",
    "\n",
    "# load R libraries\n",
    "library(\"tidyverse\")"
   ]
  },
  {
   "cell_type": "markdown",
   "metadata": {},
   "source": [
    "## Define functions\n",
    "\n",
    "Create two convenient functions to write and submit scripts to scheduler and track / retrieve status of job IDs (written for SLURM, but could easily be adapted for use with SGE)"
   ]
  },
  {
   "cell_type": "code",
   "execution_count": 5,
   "metadata": {
    "ExecuteTime": {
     "end_time": "2021-06-07T21:18:26.716345Z",
     "start_time": "2021-06-07T21:18:26.702665Z"
    },
    "code_folding": [
     7,
     43
    ]
   },
   "outputs": [],
   "source": [
    "# change accordingly\n",
    "username = 'akautt'\n",
    "\n",
    "# create dictionary to catch job IDs for all jobs submitted by function below\n",
    "slurm_ids = {} \n",
    "\n",
    "# code adapted from function written by Brock Wooldridge\n",
    "def make_slurm(cmd_string,jobName,echo=False,run=False,write=True,mem='2gb',time='00-12:00',N='1',n='1',c='1',\n",
    "               array='1-1%1',p='hoekstra,shared'):\n",
    "    SLURM = ('''#!/bin/bash\\n'''\n",
    "           '''#SBATCH -N {nodes}\\n'''\n",
    "           '''#SBATCH -n {tasks}\\n'''\n",
    "           '''#SBATCH -c {cpus}\\n'''\n",
    "           '''#SBATCH -t {time}\\n'''\n",
    "           '''#SBATCH --mem={mem}\\n'''\n",
    "           '''#SBATCH -p {partition}\\n'''\n",
    "           '''#SBATCH --array {array}\\n'''\n",
    "           '''#SBATCH --job-name {jobName}\\n'''\n",
    "           '''#SBATCH -e {log_dir}/%x_%A_%a.out\\n'''\n",
    "           '''#SBATCH -o {log_dir}/%x_%A_%a.out\\n'''\n",
    "           '''{cmd_string}\\n''').format(\n",
    "                jobName=jobName,cmd_string=cmd_string,partition=p,time=time,mem=mem,tasks=n,cpus=c,nodes=N,\n",
    "                array=array,log_dir=log_dir)\n",
    "\n",
    "    # Show SLURM command?\n",
    "    if echo == True:\n",
    "        print(SLURM)\n",
    "\n",
    "    # Write to file and/or submit to SLURM?\n",
    "    if write == True:\n",
    "        filename = '%s/%s.slurm' % (scripts_dir,jobName)\n",
    "        with open(filename, 'w') as outfile:\n",
    "            outfile.write(SLURM)\n",
    "            print('\"%s\" slurm script written to %s\\n' %(jobName, scripts_dir))\n",
    "        # Run\n",
    "        if run == True:\n",
    "            sbatch_response = subprocess.getoutput('sbatch {}'.format(filename))\n",
    "            print(sbatch_response)\n",
    "            job_id = sbatch_response.split(' ')[-1].strip()\n",
    "            slurm_ids[jobName] = job_id\n",
    "            \n",
    "    return(SLURM)\n",
    "\n",
    "def sacct_extract(job_name):\n",
    "    \n",
    "    jobstring = ','.join( jobID for name,jobID in slurm_ids.items() if job_name in name )\n",
    "\n",
    "    sacct_out = [ subprocess.getoutput('sacct -j {}'.format(jobstring)) ]\n",
    "\n",
    "    output = []\n",
    "    for line in sacct_out:\n",
    "        jobs = line.split(\"\\n\")\n",
    "        for entry in jobs:\n",
    "            if username in entry:\n",
    "                fields = entry.split()\n",
    "                output.append(fields[0:9])\n",
    "    print(*output,sep=\"\\n\")"
   ]
  },
  {
   "cell_type": "markdown",
   "metadata": {},
   "source": [
    "## Dirs and paths"
   ]
  },
  {
   "cell_type": "code",
   "execution_count": 6,
   "metadata": {
    "ExecuteTime": {
     "end_time": "2021-06-07T21:18:26.774298Z",
     "start_time": "2021-06-07T21:18:26.720726Z"
    }
   },
   "outputs": [],
   "source": [
    "project = 'Zindianus_WGS'\n",
    "stem_path = '/n/holylfs03/LABS/hoekstra_lab/Users/akautt/projects/'\n",
    "\n",
    "#set main data folder for the project\n",
    "project_dir = stem_path + project\n",
    "depth_dir = os.path.join(project_dir,'read_depth')\n",
    "temp_dir = os.path.join(project_dir,'temp')\n",
    "scripts_dir = os.path.join(project_dir,'scripts')\n",
    "log_dir = os.path.join(scripts_dir,'logs')"
   ]
  },
  {
   "cell_type": "markdown",
   "metadata": {},
   "source": [
    "## Sample info"
   ]
  },
  {
   "cell_type": "code",
   "execution_count": 9,
   "metadata": {
    "ExecuteTime": {
     "end_time": "2021-06-07T21:19:18.548512Z",
     "start_time": "2021-06-07T21:19:18.509526Z"
    }
   },
   "outputs": [],
   "source": [
    "# pull out sample name from bam files (subset) and create sample to bam dict\n",
    "bam_per_indv = {}\n",
    "\n",
    "bam_files = glob.glob('{}/*.bam'.format(depth_dir))\n",
    "\n",
    "for file in bam_files:\n",
    "    sample = '_'.join(file.split('/')[-1].split('_')[0:2])\n",
    "    bam_per_indv[sample] = file"
   ]
  },
  {
   "cell_type": "markdown",
   "metadata": {},
   "source": [
    "## Refseq and scaffold info"
   ]
  },
  {
   "cell_type": "code",
   "execution_count": 10,
   "metadata": {
    "ExecuteTime": {
     "end_time": "2021-06-07T21:19:21.340065Z",
     "start_time": "2021-06-07T21:19:21.266993Z"
    }
   },
   "outputs": [],
   "source": [
    "refseq = os.path.join(depth_dir,'z_indianus_16GNV01_v02.fasta')\n",
    "\n",
    "# read fasta index into table with pandas and create dict of scaffolds and size\n",
    "refseq_info = refseq + '.fai'\n",
    "\n",
    "refseq_table = pd.read_table(refseq_info, header=None, names=['scaffold','size','bla','foo','bar'])\n",
    "\n",
    "scaffolds = dict(zip(refseq_table['scaffold'],refseq_table['size']))"
   ]
  },
  {
   "cell_type": "markdown",
   "metadata": {},
   "source": [
    "# Read depth"
   ]
  },
  {
   "cell_type": "markdown",
   "metadata": {},
   "source": [
    "## Run samtools depth\n",
    "\n",
    "Create and submit slurm script to run samtools depth to obtain individual read depth across genome."
   ]
  },
  {
   "cell_type": "code",
   "execution_count": null,
   "metadata": {},
   "outputs": [],
   "source": [
    "sample_string = \"#CHROM\" + '\\t' + \"POS\" + '\\t' + '\\t'.join(bam_per_indv.keys())\n",
    "bam_string = ' '.join(bam_per_indv.values())\n",
    "\n",
    "out_file = '{}/all.read_depth.txt'.format(depth_dir)\n",
    "    \n",
    "if not os.path.exists(out_file + '.success'):\n",
    "\n",
    "    samtools_depth = (\n",
    "        '''\\nmodule load samtools tabix\\n\\n'''\n",
    "        '''printf \"{sample_string}\\n\" > {out_file}\\n\\n'''\n",
    "        '''samtools depth --reference {refseq} -aa -q {min_basequal} -Q {min_mapqual} '''\n",
    "        '''{bam_string} >> {out_file} && touch {out_file}.success\\n\\n'''\n",
    "        '''bgzip {out_file} && tabix -s 1 -b 2 -e 2 {out_file}.gz\\n\\n''').format(\n",
    "        out_file=out_file,bam_string=bam_string,sample_string=sample_string,\n",
    "        refseq=refseq,min_basequal=20,min_mapqual=30)\n",
    "    \n",
    "    slurm = make_slurm(jobName='samtools_depth',cmd_string=samtools_depth,\n",
    "                       run=True,echo=False,mem='4gb',time='7-00:00',array='1-1%1',c=1)"
   ]
  },
  {
   "cell_type": "code",
   "execution_count": null,
   "metadata": {},
   "outputs": [],
   "source": [
    "# check on status\n",
    "sacct_extract('samtools_depth')"
   ]
  },
  {
   "cell_type": "markdown",
   "metadata": {},
   "source": [
    "## Calculate read depth summary stats"
   ]
  },
  {
   "cell_type": "code",
   "execution_count": 11,
   "metadata": {
    "ExecuteTime": {
     "end_time": "2021-06-07T21:33:28.863136Z",
     "start_time": "2021-06-07T21:19:24.057970Z"
    }
   },
   "outputs": [],
   "source": [
    "# pull out means for each scaffold and append to pandas dataframe (this can take ~15 min)\n",
    "\n",
    "RD_table = pd.DataFrame(columns=['scaffold','no_sites'] + list(bam_per_indv.keys()))\n",
    "\n",
    "depth_file = '{}/all.read_depth.txt.gz'.format(depth_dir)\n",
    "tbx = pysam.TabixFile(depth_file)\n",
    "\n",
    "for focal_scaffold in list(scaffolds.keys()):\n",
    "\n",
    "    no_sites = 0\n",
    "    indices = {}\n",
    "    sums = {}\n",
    "    means = {}\n",
    "    \n",
    "    for i,sample in enumerate(list(bam_per_indv.keys())):\n",
    "        indices[sample] = i\n",
    "        sums[sample] = 0\n",
    "    \n",
    "    for site in tbx.fetch(focal_scaffold):\n",
    "        depths = site.split('\\t')[2:]\n",
    "        for sample,index in indices.items():\n",
    "            sums[sample] += int(depths[index])\n",
    "        no_sites += 1\n",
    "        \n",
    "    for sample in list(indices.keys()):\n",
    "        means[sample] = round(sums[sample]/no_sites,2)\n",
    "        \n",
    "    means['scaffold'] = focal_scaffold\n",
    "    means['no_sites'] = no_sites\n",
    "    \n",
    "    RD_table = RD_table.append(means,ignore_index=True)\n",
    "    \n",
    "# write to file\n",
    "RD_table_file = '{}/RD_table.tsv'.format(depth_dir)\n",
    "\n",
    "if not os.path.exists(RD_table_file):\n",
    "    RD_table.to_csv(RD_table_file, index=False, sep='\\t')"
   ]
  },
  {
   "cell_type": "code",
   "execution_count": 12,
   "metadata": {
    "ExecuteTime": {
     "end_time": "2021-06-07T21:37:24.709323Z",
     "start_time": "2021-06-07T21:37:24.641736Z"
    }
   },
   "outputs": [
    {
     "name": "stdout",
     "output_type": "stream",
     "text": [
      "overall means are: [24.83565278146669 31.625069515131237 43.0872229372977 19.40959170152312\n",
      " 21.43801814147571 19.85360320728471 17.962964154355245 18.638744832684836\n",
      " 18.913983848330066]\n"
     ]
    }
   ],
   "source": [
    "# calculate \"weighted\" mean across all sites\n",
    "# -> just mean of means across scaffolds would be flawed due to different sizes\n",
    "weighted_means = np.array(pd.DataFrame(np.array(RD_table.iloc[:,2:]) * \n",
    "                        (np.array(RD_table[['no_sites']])) / RD_table.no_sites.sum()).sum())\n",
    "print(\"overall means are:\", weighted_means)\n",
    "\n",
    "# create normalized means \n",
    "# -> normalized = for each sample, each scaffold's read depth is expressed relative to sample's mean read depth across genome\n",
    "normalized_means = pd.DataFrame(np.array(RD_table.iloc[:,2:]) / weighted_means, \n",
    "                               columns=list(bam_per_indv.keys()))\n",
    "\n",
    "# merge with scaffold and total_sites to create new dataframe\n",
    "normalized_table = pd.concat([RD_table.iloc[:,0:2], normalized_means], axis=1)\n",
    "# round all values\n",
    "normalized_table = normalized_table.infer_objects().round(decimals=2)\n",
    "\n",
    "# write to file\n",
    "normalized_table_file = '{}/RD_table.normalized.tsv'.format(depth_dir)\n",
    "if not os.path.exists(normalized_table_file):\n",
    "    normalized_table.to_csv(normalized_table_file, index=False, sep='\\t')"
   ]
  },
  {
   "cell_type": "markdown",
   "metadata": {},
   "source": [
    "## Check distribution of coverage ratios and make calls\n",
    "\n",
    "Calls are based on ratios of coverage for given scaffold compared to mean coverage across all sites. In males we'd expect this to be less than one, in females approximately one. Obviously, there is variation, which makes it hard for smaller scaffolds and since we don't know a priori how many sites are X-linked we don't know what ratio to expect in males. Let's look at the distributions..."
   ]
  },
  {
   "cell_type": "code",
   "execution_count": 13,
   "metadata": {
    "ExecuteTime": {
     "end_time": "2021-06-07T21:37:31.851220Z",
     "start_time": "2021-06-07T21:37:31.663861Z"
    }
   },
   "outputs": [],
   "source": [
    "%%R -i depth_dir\n",
    "\n",
    "RD_table <- read.table(file.path(depth_dir,\"RD_table.tsv\"), header=T, sep=\"\\t\") %>% as.tibble()\n",
    "\n",
    "normalized_table <- read.table(file.path(depth_dir,\"RD_table.normalized.tsv\"), header=T, sep=\"\\t\") %>% as.tibble()"
   ]
  },
  {
   "cell_type": "code",
   "execution_count": 14,
   "metadata": {
    "ExecuteTime": {
     "end_time": "2021-06-07T21:37:51.689248Z",
     "start_time": "2021-06-07T21:37:48.598396Z"
    }
   },
   "outputs": [
    {
     "data": {
      "image/png": "[encoded data removed]"
     },
     "metadata": {},
     "output_type": "display_data"
    }
   ],
   "source": [
    "%%R -i depth_dir -w 800 -h 400\n",
    "#%%R -i depth_dir -i normalized_table -i RD_table -w 800 -h 400 # could've used this to just import pandas DFs into R env rather than reading in from file\n",
    "\n",
    "normalized_table %>% \n",
    "    filter(no_sites > 100000) %>% # filter out scaffolds smaller than 100 kb\n",
    "    filter(rowSums(select(.,-scaffold,-no_sites)) <= 9*2) %>% # filter out scaffolds with twice the average coverage across samples -> repetitive elements, hidden paralogs, etc.\n",
    "    gather(ID,normalized_coverage,-scaffold,-no_sites) %>% \n",
    "    mutate(sex=if_else(str_detect(ID,\"_female\"), \"female\", if_else(str_detect(ID,\"_male\"), \"male\", \"NA\"))) %>% \n",
    "        ggplot( aes(x=normalized_coverage,fill=sex)) + xlim(0,2) + #geom_density(n=1024) + xlim(0,2)\n",
    "            geom_histogram(position='identity',binwidth=0.025, alpha=0.5)"
   ]
  },
  {
   "cell_type": "markdown",
   "metadata": {},
   "source": [
    "## Check if there are any Y-linked scaffolds or scaffolds that appear to harbor repetitive elements (abnormally high coverage)"
   ]
  },
  {
   "cell_type": "code",
   "execution_count": 19,
   "metadata": {
    "ExecuteTime": {
     "end_time": "2021-06-07T22:02:47.289055Z",
     "start_time": "2021-06-07T22:02:45.749171Z"
    }
   },
   "outputs": [
    {
     "name": "stdout",
     "output_type": "stream",
     "text": [
      "\u001b[90m# A tibble: 21 x 12\u001b[39m\n",
      "   scaffold no_sites X18WPA_female03 bct16_male7 LIV15_female5 X18WPA_female02\n",
      "   \u001b[3m\u001b[90m<fct>\u001b[39m\u001b[23m       \u001b[3m\u001b[90m<int>\u001b[39m\u001b[23m           \u001b[3m\u001b[90m<dbl>\u001b[39m\u001b[23m       \u001b[3m\u001b[90m<dbl>\u001b[39m\u001b[23m         \u001b[3m\u001b[90m<dbl>\u001b[39m\u001b[23m           \u001b[3m\u001b[90m<dbl>\u001b[39m\u001b[23m\n",
      "\u001b[90m 1\u001b[39m scaffol…   \u001b[4m2\u001b[24m\u001b[4m7\u001b[24m\u001b[4m2\u001b[24m981            1.75        1.82          1.17            1.80\n",
      "\u001b[90m 2\u001b[39m scaffol…   \u001b[4m2\u001b[24m\u001b[4m0\u001b[24m\u001b[4m4\u001b[24m127            2.30        1.72          1.14            1.95\n",
      "\u001b[90m 3\u001b[39m scaffol…   \u001b[4m2\u001b[24m\u001b[4m1\u001b[24m\u001b[4m0\u001b[24m543            7.31        6.53          8.67            7.60\n",
      "\u001b[90m 4\u001b[39m scaffol…   \u001b[4m1\u001b[24m\u001b[4m8\u001b[24m\u001b[4m4\u001b[24m582            1.72        1.52          1.46            1.60\n",
      "\u001b[90m 5\u001b[39m scaffol…   \u001b[4m1\u001b[24m\u001b[4m2\u001b[24m\u001b[4m5\u001b[24m526            1.79        2.75          1.80            1.61\n",
      "\u001b[90m 6\u001b[39m scaffol…    \u001b[4m9\u001b[24m\u001b[4m7\u001b[24m858            2.35        3.45          1.66            1.77\n",
      "\u001b[90m 7\u001b[39m scaffol…    \u001b[4m9\u001b[24m\u001b[4m1\u001b[24m626            5.29        5.01          1.39            3.48\n",
      "\u001b[90m 8\u001b[39m scaffol…    \u001b[4m8\u001b[24m\u001b[4m8\u001b[24m133            2.51        1.77          1.93            2.77\n",
      "\u001b[90m 9\u001b[39m scaffol…    \u001b[4m7\u001b[24m\u001b[4m5\u001b[24m711            3.14        2.90          1.29            3.55\n",
      "\u001b[90m10\u001b[39m scaffol…    \u001b[4m5\u001b[24m\u001b[4m7\u001b[24m592            1.57        5.91          1.86            1.39\n",
      "\u001b[90m# … with 11 more rows, and 6 more variables: HI18_male04 \u001b[3m\u001b[90m<dbl>\u001b[90m\u001b[23m,\n",
      "#   X18WPA_female01 \u001b[3m\u001b[90m<dbl>\u001b[90m\u001b[23m, HI18_male06 \u001b[3m\u001b[90m<dbl>\u001b[90m\u001b[23m, X18was07_male \u001b[3m\u001b[90m<dbl>\u001b[90m\u001b[23m,\n",
      "#   X18WPA_male01 \u001b[3m\u001b[90m<dbl>\u001b[90m\u001b[23m, calls \u001b[3m\u001b[90m<chr>\u001b[90m\u001b[23m\u001b[39m\n",
      "\u001b[90m# A tibble: 7 x 12\u001b[39m\n",
      "  scaffold no_sites X18WPA_female03 bct16_male7 LIV15_female5 X18WPA_female02\n",
      "  \u001b[3m\u001b[90m<fct>\u001b[39m\u001b[23m       \u001b[3m\u001b[90m<int>\u001b[39m\u001b[23m           \u001b[3m\u001b[90m<dbl>\u001b[39m\u001b[23m       \u001b[3m\u001b[90m<dbl>\u001b[39m\u001b[23m         \u001b[3m\u001b[90m<dbl>\u001b[39m\u001b[23m           \u001b[3m\u001b[90m<dbl>\u001b[39m\u001b[23m\n",
      "\u001b[90m1\u001b[39m scaffol…     \u001b[4m5\u001b[24m967          0.158        0.420        0.269           0.174 \n",
      "\u001b[90m2\u001b[39m scaffol…     \u001b[4m4\u001b[24m004          0.027\u001b[4m4\u001b[24m       0.430        0.032\u001b[4m5\u001b[24m          0.057\u001b[4m2\u001b[24m\n",
      "\u001b[90m3\u001b[39m scaffol…     \u001b[4m2\u001b[24m711          0.233        0.389        0.207           0.202 \n",
      "\u001b[90m4\u001b[39m scaffol…     \u001b[4m2\u001b[24m013          0.412        0.548        0.227           0.111 \n",
      "\u001b[90m5\u001b[39m scaffol…     \u001b[4m1\u001b[24m957          0.148        0.294        0.250           0.069\u001b[4m0\u001b[24m\n",
      "\u001b[90m6\u001b[39m scaffol…      764          0            1.58         0               0     \n",
      "\u001b[90m7\u001b[39m scaffol…      451          0.020\u001b[4m9\u001b[24m       0.625        0.495           0.248 \n",
      "\u001b[90m# … with 6 more variables: HI18_male04 \u001b[3m\u001b[90m<dbl>\u001b[90m\u001b[23m, X18WPA_female01 \u001b[3m\u001b[90m<dbl>\u001b[90m\u001b[23m,\n",
      "#   HI18_male06 \u001b[3m\u001b[90m<dbl>\u001b[90m\u001b[23m, X18was07_male \u001b[3m\u001b[90m<dbl>\u001b[90m\u001b[23m, X18WPA_male01 \u001b[3m\u001b[90m<dbl>\u001b[90m\u001b[23m, calls \u001b[3m\u001b[90m<chr>\u001b[90m\u001b[23m\u001b[39m\n"
     ]
    }
   ],
   "source": [
    "%%R\n",
    "\n",
    "# pull out total size for normalization / weighing scaffold means\n",
    "total_sites = sum(RD_table$no_sites)\n",
    "\n",
    "# calculate sample means\n",
    "sample_means <- RD_table %>% mutate_at(~.*(no_sites/total_sites), .vars=vars(-scaffold,-no_sites)) %>%\n",
    "    select(-scaffold,-no_sites) %>% summarise_all(sum) %>% unlist() %>% as.vector()\n",
    "\n",
    "# normalize and make new calls\n",
    "norm_table <- RD_table %>% select(-scaffold,-no_sites) %>% as.matrix %>%\n",
    "    sweep(2, sample_means, `/`) %>% as.data.frame() %>% \n",
    "    bind_cols(select(RD_table,scaffold,no_sites), .) %>%\n",
    "    mutate(calls=case_when(\n",
    "                        rowSums(select(.,contains(\"_male\"))>=0.25)>=4 &\n",
    "                            rowSums(select(.,contains(\"_female\"))<0.25)>=3 ~ \"Y_linked\",\n",
    "                        rowSums(select(.,-scaffold,-no_sites)>=1.5)>= 7 ~ \"repeat\",\n",
    "                        TRUE ~ \"NA\"))\n",
    "\n",
    "norm_table %>% filter(calls==\"repeat\") %>% print()\n",
    "norm_table %>% filter(calls==\"Y_linked\") %>% print()"
   ]
  },
  {
   "cell_type": "markdown",
   "metadata": {},
   "source": [
    "-> Seems like there are a few repetitive regions and possibly a few Y-linked scaffolds, but the latter are all super small and can't be confidently called"
   ]
  },
  {
   "cell_type": "markdown",
   "metadata": {},
   "source": [
    "## Make X-linked vs. autosome assignments\n",
    "\n",
    "Assign scaffolds to autosomes vs. X-chromosome based on relative read depth in females and males. Don't consider scaffolds smaller than 100 kb (cannot be realiably assigned), or scaffolds that appear to harbor repetitive elements (i.e. those that exhibit unusally high coverage across the board). More specifially, <br>\n",
    "- if read depth for a scaffold is more than 1.5 times the average read depth in at least 7 out of 9 samples -> repetitive region\n",
    "- if relative read depth is larger than 0.25 in at least 4/5 males and smaller than 0.25 in at least 3/4 females -> Y-linked (expectation in males is 0.5 and in females 0)\n",
    "- if relative read depth is smaller than a certain ratio in 4/5 males and higher in 3/4 females -> X-linked \n",
    "\n",
    "For the latter, try different ratios/thresholds, ranging from 0.5 to 0.95 in steps of 0.05 and do the assignments in several iterations, where overall and normalized read depth are re-calculated every round w/o previously assigned X-linked scaffolds."
   ]
  },
  {
   "cell_type": "code",
   "execution_count": 495,
   "metadata": {
    "ExecuteTime": {
     "end_time": "2021-01-28T17:02:05.779394Z",
     "start_time": "2021-01-28T17:02:03.512458Z"
    },
    "scrolled": true
   },
   "outputs": [
    {
     "name": "stdout",
     "output_type": "stream",
     "text": [
      "[1] \"threshold is: 0.5\"\n",
      "  iter auto repeat too_small X auto_sites rpt_sites NA_sites X_sites prct_X\n",
      "1    1  258      5       385 1  136905782    997759  7686158  150154   0.11\n",
      "2    2  258      5       385 1  136905782    997759  7686158  150154   0.11\n",
      "3    3  258      5       385 1  136905782    997759  7686158  150154   0.11\n",
      "4    4  258      5       385 1  136905782    997759  7686158  150154   0.11\n",
      "5    5  258      5       385 1  136905782    997759  7686158  150154   0.11\n",
      "[1] \"threshold is: 0.55\"\n",
      "  iter auto repeat too_small  X auto_sites rpt_sites NA_sites X_sites prct_X\n",
      "1    1  247      5       385 12  127782582    997759  7686158 9273354   7.26\n",
      "2    2  247      4       385 13  127269361    813177  7686158 9971157   7.83\n",
      "3    3  247      4       385 13  127269361    813177  7686158 9971157   7.83\n",
      "4    4  247      4       385 13  127269361    813177  7686158 9971157   7.83\n",
      "5    5  247      4       385 13  127269361    813177  7686158 9971157   7.83\n",
      "[1] \"threshold is: 0.6\"\n",
      "  iter auto repeat too_small  X auto_sites rpt_sites NA_sites  X_sites prct_X\n",
      "1    1  243      5       385 16  124857983    997759  7686158 12197953   9.77\n",
      "2    2  241      4       385 19  122370868    813177  7686158 14869650  12.15\n",
      "3    3  241      4       385 19  122370868    813177  7686158 14869650  12.15\n",
      "4    4  241      4       385 19  122370868    813177  7686158 14869650  12.15\n",
      "5    5  241      4       385 19  122370868    813177  7686158 14869650  12.15\n",
      "[1] \"threshold is: 0.65\"\n",
      "  iter auto repeat too_small  X auto_sites rpt_sites NA_sites  X_sites prct_X\n",
      "1    1  239      5       385 20  121739772    997759  7686158 15316164  12.58\n",
      "2    2  240      4       385 20  121924354    813177  7686158 15316164  12.56\n",
      "3    3  240      4       385 20  121924354    813177  7686158 15316164  12.56\n",
      "4    4  240      4       385 20  121924354    813177  7686158 15316164  12.56\n",
      "5    5  240      4       385 20  121924354    813177  7686158 15316164  12.56\n",
      "[1] \"threshold is: 0.7\"\n",
      "  iter auto repeat too_small  X auto_sites rpt_sites NA_sites  X_sites prct_X\n",
      "1    1  237      5       385 22  117728914    997759  7686158 19327022  16.42\n",
      "2    2  235      4       385 25  117141124    813177  7686158 20099394  17.16\n",
      "3    3  235      4       385 25  117141124    813177  7686158 20099394  17.16\n",
      "4    4  235      4       385 25  117141124    813177  7686158 20099394  17.16\n",
      "5    5  235      4       385 25  117141124    813177  7686158 20099394  17.16\n",
      "[1] \"threshold is: 0.75\"\n",
      "  iter auto repeat too_small  X auto_sites rpt_sites NA_sites  X_sites prct_X\n",
      "1    1  233      5       385 26  115643898    997759  7686158 21412038  18.52\n",
      "2    2  232      4       385 28  114917177    813177  7686158 22323341  19.43\n",
      "3    3  232      4       385 28  114917177    813177  7686158 22323341  19.43\n",
      "4    4  232      4       385 28  114917177    813177  7686158 22323341  19.43\n",
      "5    5  232      4       385 28  114917177    813177  7686158 22323341  19.43\n",
      "[1] \"threshold is: 0.8\"\n",
      "  iter auto repeat too_small  X auto_sites rpt_sites NA_sites  X_sites prct_X\n",
      "1    1  232      5       385 27  115307218    997759  7686158 21748718  18.86\n",
      "2    2  227      4       385 33  108574390    813177  7686158 28666128  26.40\n",
      "3    3  227      4       385 33  108574390    813177  7686158 28666128  26.40\n",
      "4    4  227      4       385 33  108574390    813177  7686158 28666128  26.40\n",
      "5    5  227      4       385 33  108574390    813177  7686158 28666128  26.40\n",
      "[1] \"threshold is: 0.85\"\n",
      "  iter auto repeat too_small  X auto_sites rpt_sites NA_sites  X_sites prct_X\n",
      "1    1  227      5       385 32  108836322    997759  7686158 28219614  25.93\n",
      "2    2  220      4       385 40  103526894    813177  7686158 33713624  32.57\n",
      "3    3  220      4       385 40  103526894    813177  7686158 33713624  32.57\n",
      "4    4  220      4       385 40  103526894    813177  7686158 33713624  32.57\n",
      "5    5  220      4       385 40  103526894    813177  7686158 33713624  32.57\n",
      "[1] \"threshold is: 0.9\"\n",
      "  iter auto repeat too_small  X auto_sites rpt_sites NA_sites  X_sites prct_X\n",
      "1    1  227      5       385 32  107688641    997759  7686158 29367295  27.27\n",
      "2    2  218      4       385 42  101196098    813177  7686158 36044420  35.62\n",
      "3    3  214      4       385 46  100350802    813177  7686158 36889716  36.76\n",
      "4    4  214      4       385 46  100350802    813177  7686158 36889716  36.76\n",
      "5    5  214      4       385 46  100350802    813177  7686158 36889716  36.76\n",
      "[1] \"threshold is: 0.95\"\n",
      "  iter auto repeat too_small  X auto_sites rpt_sites NA_sites  X_sites prct_X\n",
      "1    1  229      5       385 30  107965179    997759  7686158 29090757  26.94\n",
      "2    2  216      4       385 44  101286484    813177  7686158 35954034  35.50\n",
      "3    3  212      4       385 48   99815812    813177  7686158 37424706  37.49\n",
      "4    4  211      4       385 49   99351201    813177  7686158 37889317  38.14\n",
      "5    5  210      4       385 50   99039019    813177  7686158 38201499  38.57\n"
     ]
    }
   ],
   "source": [
    "%%R\n",
    "\n",
    "min_size = 100000\n",
    "\n",
    "for (thresh in seq(0.5,0.95,0.05)){\n",
    "\n",
    "    assignment_table <- data.frame(matrix(nrow=1,ncol=9))\n",
    "    colnames(assignment_table) <- c(\"iter\",\"auto\",\"repeat\",\"too_small\",\"X\",\"auto_sites\",\"rpt_sites\",\"NA_sites\",\"X_sites\")\n",
    "    i=1\n",
    "    \n",
    "    input_table <- RD_table\n",
    "    \n",
    "    for (i in seq(1,5)){\n",
    "        \n",
    "        # if it doesn't exist (1st iteration), add X_linked column\n",
    "        input_table <- input_table %>% rowwise() %>%\n",
    "                          mutate(calls = ifelse(\"calls\" %in% names(.), calls, \"NA\")) %>% ungroup()\n",
    "        \n",
    "        # remove already called X-linked scaffolds prior to normalization and save as separate DF\n",
    "        table_to_call <- input_table %>% filter(calls!=\"X_linked\") %>% select(-calls)\n",
    "        X_linked_scaffs <- input_table %>% filter(calls==\"X_linked\")\n",
    "    \n",
    "        # pull out total size for normalization / weighing scaffold means\n",
    "        total_sites = sum(table_to_call$no_sites)\n",
    "        \n",
    "        # calculate sample means\n",
    "        sample_means <- table_to_call %>% mutate_at(~.*(no_sites/total_sites), .vars=vars(-scaffold,-no_sites)) %>%\n",
    "            select(-scaffold,-no_sites) %>% summarise_all(sum) %>% unlist() %>% as.vector()\n",
    "        \n",
    "        # normalize and make new calls\n",
    "        new_calls_table <- table_to_call %>% select(-scaffold,-no_sites) %>% as.matrix %>%\n",
    "            sweep(2, sample_means, `/`) %>% as.data.frame() %>% \n",
    "            bind_cols(select(table_to_call,scaffold,no_sites), .) %>%\n",
    "            mutate(calls=\n",
    "                        if_else(no_sites > min_size & rowSums(select(.,-scaffold,-no_sites)>=1.5)>= 7, \"repeat\",\n",
    "                        if_else(no_sites > min_size & rowSums(select(.,contains(\"_male\"))<thresh)>=4 &\n",
    "                                    rowSums(select(.,contains(\"_female\"))>thresh)>=3, \"X_linked\",\n",
    "                        if_else(no_sites > min_size & rowSums(select(.,contains(\"_male\"))>=0.25)>=4 &\n",
    "                                    rowSums(select(.,contains(\"_female\"))<0.25)>=3, \"Y_linked\",\n",
    "                        if_else(no_sites <= min_size, \"too_small\", \"autosome\")))))\n",
    "    \n",
    "        # combine with X-linked DF (pulled out above)\n",
    "        input_table <- rbind(X_linked_scaffs,new_calls_table) %>% arrange(scaffold)\n",
    "        \n",
    "        counts <- input_table %>% group_by(calls) %>% tally() %>% as.data.frame()\n",
    "        sites <- input_table %>% group_by(calls) %>% summarize(no_sites=sum(no_sites)) %>% as.data.frame()\n",
    "        \n",
    "        assignment_table[i,1] <- i\n",
    "        assignment_table[i,2] <- counts[1,2]\n",
    "        assignment_table[i,3] <- counts[2,2]\n",
    "        assignment_table[i,4] <- counts[3,2]\n",
    "        assignment_table[i,5] <- counts[4,2]\n",
    "        assignment_table[i,6] <- sites[1,2]\n",
    "        assignment_table[i,7] <- sites[2,2]\n",
    "        assignment_table[i,8] <- sites[3,2]\n",
    "        assignment_table[i,9] <- sites[4,2]\n",
    "        i=i+1\n",
    "    }\n",
    "    \n",
    "    print(paste0(\"threshold is: \", thresh))\n",
    "    assignment_table %>% mutate(prct_X=round(X_sites/auto_sites,4)*100) %>% print()\n",
    "    \n",
    "}"
   ]
  }
 ],
 "metadata": {
  "kernelspec": {
   "display_name": "Python 3",
   "language": "python",
   "name": "python3"
  },
  "language_info": {
   "codemirror_mode": {
    "name": "ipython",
    "version": 3
   },
   "file_extension": ".py",
   "mimetype": "text/x-python",
   "name": "python",
   "nbconvert_exporter": "python",
   "pygments_lexer": "ipython3",
   "version": "3.7.3"
  },
  "toc": {
   "base_numbering": 1,
   "nav_menu": {},
   "number_sections": true,
   "sideBar": true,
   "skip_h1_title": false,
   "title_cell": "Table of Contents",
   "title_sidebar": "Contents",
   "toc_cell": false,
   "toc_position": {
    "height": "calc(100% - 180px)",
    "left": "10px",
    "top": "150px",
    "width": "288px"
   },
   "toc_section_display": true,
   "toc_window_display": true
  }
 },
 "nbformat": 4,
 "nbformat_minor": 2
}
